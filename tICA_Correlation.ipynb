{
 "cells": [
  {
   "cell_type": "code",
   "execution_count": 1,
   "id": "c5332bba",
   "metadata": {},
   "outputs": [],
   "source": [
    "import numpy as np"
   ]
  },
  {
   "cell_type": "code",
   "execution_count": 2,
   "id": "042a6b38",
   "metadata": {},
   "outputs": [],
   "source": [
    "#tICA-1 all trajectories load\n",
    "p1 = np.loadtxt(\"Tica_Trajectories/Traj0_Tica0\")\n",
    "tica1_all_traj = p1.T\n",
    "i = 1\n",
    "while(i<=24):\n",
    "    temp1 = np.loadtxt(\"Tica_Trajectories/Traj%d_Tica0\"%i)\n",
    "    temp1 = temp1.T\n",
    "    tica1_all_traj = np.concatenate((tica1_all_traj,temp1))\n",
    "    i = i+1\n",
    "\n"
   ]
  },
  {
   "cell_type": "code",
   "execution_count": 3,
   "id": "53620075",
   "metadata": {},
   "outputs": [],
   "source": [
    "#tICA-2 all trajectories load\n",
    "p2 = np.loadtxt(\"Tica_Trajectories/Traj0_Tica1\")\n",
    "tica2_all_traj = p2.T\n",
    "i = 1\n",
    "while(i<=24):\n",
    "    temp2 = np.loadtxt(\"Tica_Trajectories/Traj%d_Tica1\"%i)\n",
    "    temp2 = temp2.T\n",
    "    tica2_all_traj = np.concatenate((tica2_all_traj,temp2))\n",
    "    i = i+1"
   ]
  },
  {
   "cell_type": "code",
   "execution_count": 4,
   "id": "0f55d5ed",
   "metadata": {},
   "outputs": [],
   "source": [
    "#tICA-3 all trajectories load\n",
    "p3 = np.loadtxt(\"Tica_Trajectories/Traj0_Tica2\")\n",
    "tica3_all_traj = p3.T\n",
    "i = 1\n",
    "while(i<=24):\n",
    "    temp3 = np.loadtxt(\"Tica_Trajectories/Traj%d_Tica2\"%i)\n",
    "    temp3 = temp3.T\n",
    "    tica3_all_traj = np.concatenate((tica3_all_traj,temp3))\n",
    "    i = i+1"
   ]
  },
  {
   "cell_type": "code",
   "execution_count": 5,
   "id": "8d6dab40",
   "metadata": {},
   "outputs": [],
   "source": [
    "#tICA-4 all trajectories load\n",
    "p4 = np.loadtxt(\"Tica_Trajectories/Traj0_Tica3\")\n",
    "tica4_all_traj = p4.T\n",
    "i = 1\n",
    "while(i<=24):\n",
    "    temp4 = np.loadtxt(\"Tica_Trajectories/Traj%d_Tica3\"%i)\n",
    "    temp4 = temp4.T\n",
    "    tica4_all_traj = np.concatenate((tica4_all_traj,temp4))\n",
    "    i = i+1"
   ]
  },
  {
   "cell_type": "code",
   "execution_count": 6,
   "id": "775f2333",
   "metadata": {},
   "outputs": [],
   "source": [
    "#Phi\n",
    "q2 = np.loadtxt(\"Dihedral/phi_2_Fr1\")\n",
    "q3 = np.loadtxt(\"Dihedral/phi_3_Fr1\")\n",
    "q4 = np.loadtxt(\"Dihedral/phi_4_Fr1\")\n",
    "q5 = np.loadtxt(\"Dihedral/phi_5_Fr1\")\n",
    "q6 = np.loadtxt(\"Dihedral/phi_6_Fr1\")\n",
    "q7 = np.loadtxt(\"Dihedral/phi_7_Fr1\")\n",
    "q8 = np.loadtxt(\"Dihedral/phi_8_Fr1\")\n",
    "q9 = np.loadtxt(\"Dihedral/phi_9_Fr1\")\n",
    "q10 = np.loadtxt(\"Dihedral/phi_10_Fr1\")\n",
    "phi2_all_traj = q2[:,1].T \n",
    "phi3_all_traj = q3[:,1].T\n",
    "phi4_all_traj = q4[:,1].T\n",
    "phi5_all_traj = q5[:,1].T\n",
    "phi6_all_traj = q6[:,1].T\n",
    "phi7_all_traj = q7[:,1].T\n",
    "phi8_all_traj = q8[:,1].T\n",
    "phi9_all_traj = q9[:,1].T\n",
    "phi10_all_traj = q10[:,1].T\n",
    "k1 = 2\n",
    "while(k1<=6):\n",
    "    tmp2 = np.loadtxt(\"Dihedral/phi_2_Fr%d\"%k1)\n",
    "    tmp3 = np.loadtxt(\"Dihedral/phi_3_Fr%d\"%k1)\n",
    "    tmp4 = np.loadtxt(\"Dihedral/phi_4_Fr%d\"%k1)\n",
    "    tmp5 = np.loadtxt(\"Dihedral/phi_5_Fr%d\"%k1)\n",
    "    tmp6 = np.loadtxt(\"Dihedral/phi_6_Fr%d\"%k1)\n",
    "    tmp7 = np.loadtxt(\"Dihedral/phi_7_Fr%d\"%k1)\n",
    "    tmp8 = np.loadtxt(\"Dihedral/phi_8_Fr%d\"%k1)\n",
    "    tmp9 = np.loadtxt(\"Dihedral/phi_9_Fr%d\"%k1)\n",
    "    tmp10 = np.loadtxt(\"Dihedral/phi_10_Fr%d\"%k1)\n",
    "    tmp2 = tmp2[:,1].T\n",
    "    tmp3 = tmp3[:,1].T\n",
    "    tmp4 = tmp4[:,1].T\n",
    "    tmp5 = tmp5[:,1].T\n",
    "    tmp6 = tmp6[:,1].T\n",
    "    tmp7 = tmp7[:,1].T\n",
    "    tmp8 = tmp8[:,1].T\n",
    "    tmp9 = tmp9[:,1].T\n",
    "    tmp10 = tmp10[:,1].T\n",
    "    phi2_all_traj = np.concatenate((phi2_all_traj,tmp2))\n",
    "    phi3_all_traj = np.concatenate((phi3_all_traj,tmp3))\n",
    "    phi4_all_traj = np.concatenate((phi4_all_traj,tmp4))\n",
    "    phi5_all_traj = np.concatenate((phi5_all_traj,tmp5))\n",
    "    phi6_all_traj = np.concatenate((phi6_all_traj,tmp6))\n",
    "    phi7_all_traj = np.concatenate((phi7_all_traj,tmp7))\n",
    "    phi8_all_traj = np.concatenate((phi8_all_traj,tmp8))\n",
    "    phi9_all_traj = np.concatenate((phi9_all_traj,tmp9))\n",
    "    phi10_all_traj = np.concatenate((phi10_all_traj,tmp10))\n",
    "    k1 = k1 +1\n",
    "k2 = 8\n",
    "while(k2<=25):\n",
    "    g2 = np.loadtxt(\"Dihedral/phi_2_Fr%d\"%k2)\n",
    "    g3 = np.loadtxt(\"Dihedral/phi_3_Fr%d\"%k2)\n",
    "    g4 = np.loadtxt(\"Dihedral/phi_4_Fr%d\"%k2)\n",
    "    g5 = np.loadtxt(\"Dihedral/phi_5_Fr%d\"%k2)\n",
    "    g6 = np.loadtxt(\"Dihedral/phi_6_Fr%d\"%k2)\n",
    "    g7 = np.loadtxt(\"Dihedral/phi_7_Fr%d\"%k2)\n",
    "    g8 = np.loadtxt(\"Dihedral/phi_8_Fr%d\"%k2)\n",
    "    g9 = np.loadtxt(\"Dihedral/phi_9_Fr%d\"%k2)\n",
    "    g10 = np.loadtxt(\"Dihedral/phi_10_Fr%d\"%k2)\n",
    "    g2 = g2[:,1].T\n",
    "    g3 = g3[:,1].T\n",
    "    g4 = g4[:,1].T\n",
    "    g5 = g5[:,1].T\n",
    "    g6 = g6[:,1].T\n",
    "    g7 = g7[:,1].T\n",
    "    g8 = g8[:,1].T\n",
    "    g9 = g9[:,1].T\n",
    "    g10 = g10[:,1].T\n",
    "    phi2_all_traj = np.concatenate((phi2_all_traj,g2))\n",
    "    phi3_all_traj = np.concatenate((phi3_all_traj,g3))\n",
    "    phi4_all_traj = np.concatenate((phi4_all_traj,g4))\n",
    "    phi5_all_traj = np.concatenate((phi5_all_traj,g5))\n",
    "    phi6_all_traj = np.concatenate((phi6_all_traj,g6))\n",
    "    phi7_all_traj = np.concatenate((phi7_all_traj,g7))\n",
    "    phi8_all_traj = np.concatenate((phi8_all_traj,g8))\n",
    "    phi9_all_traj = np.concatenate((phi9_all_traj,g9))\n",
    "    phi10_all_traj = np.concatenate((phi10_all_traj,g10))\n",
    "    k2 = k2 +1\n",
    "    \n",
    "last2 = np.loadtxt(\"Dihedral/phi_2_Fr27\")\n",
    "last3 = np.loadtxt(\"Dihedral/phi_3_Fr27\")\n",
    "last4 = np.loadtxt(\"Dihedral/phi_4_Fr27\")\n",
    "last5 = np.loadtxt(\"Dihedral/phi_5_Fr27\")\n",
    "last6 = np.loadtxt(\"Dihedral/phi_6_Fr27\")\n",
    "last7 = np.loadtxt(\"Dihedral/phi_7_Fr27\")\n",
    "last8 = np.loadtxt(\"Dihedral/phi_8_Fr27\")\n",
    "last9 = np.loadtxt(\"Dihedral/phi_9_Fr27\")\n",
    "last10 = np.loadtxt(\"Dihedral/phi_10_Fr27\")\n",
    "\n",
    "last2 = last2[:,1].T\n",
    "last3 = last3[:,1].T\n",
    "last4 = last4[:,1].T\n",
    "last5 = last5[:,1].T\n",
    "last6 = last6[:,1].T\n",
    "last7 = last7[:,1].T\n",
    "last8 = last8[:,1].T\n",
    "last9 = last9[:,1].T\n",
    "last10 = last10[:,1].T\n",
    "\n",
    "phi2_all_traj = np.concatenate((phi2_all_traj,last2))   \n",
    "phi3_all_traj = np.concatenate((phi3_all_traj,last3))   \n",
    "phi4_all_traj = np.concatenate((phi4_all_traj,last4))   \n",
    "phi5_all_traj = np.concatenate((phi5_all_traj,last5))   \n",
    "phi6_all_traj = np.concatenate((phi6_all_traj,last6))   \n",
    "phi7_all_traj = np.concatenate((phi7_all_traj,last7))   \n",
    "phi8_all_traj = np.concatenate((phi8_all_traj,last8))   \n",
    "phi9_all_traj = np.concatenate((phi9_all_traj,last9))   \n",
    "phi10_all_traj = np.concatenate((phi10_all_traj,last10)) \n",
    "\n",
    "\n",
    "        \n",
    "    "
   ]
  },
  {
   "cell_type": "code",
   "execution_count": 7,
   "id": "8afc326c",
   "metadata": {},
   "outputs": [],
   "source": [
    "phi2_all_traj_sin = np.sin(phi2_all_traj)\n",
    "phi2_all_traj_cos = np.cos(phi2_all_traj)\n",
    "\n",
    "phi3_all_traj_sin = np.sin(phi3_all_traj)\n",
    "phi3_all_traj_cos = np.cos(phi3_all_traj)\n",
    "\n",
    "phi4_all_traj_sin = np.sin(phi4_all_traj)\n",
    "phi4_all_traj_cos = np.cos(phi4_all_traj)\n",
    "\n",
    "phi5_all_traj_sin = np.sin(phi5_all_traj)\n",
    "phi5_all_traj_cos = np.cos(phi5_all_traj)\n",
    "\n",
    "phi6_all_traj_sin = np.sin(phi6_all_traj)\n",
    "phi6_all_traj_cos = np.cos(phi6_all_traj)\n",
    "\n",
    "phi7_all_traj_sin = np.sin(phi7_all_traj)\n",
    "phi7_all_traj_cos = np.cos(phi7_all_traj)\n",
    "\n",
    "phi8_all_traj_sin = np.sin(phi8_all_traj)\n",
    "phi8_all_traj_cos = np.cos(phi8_all_traj)\n",
    "\n",
    "phi9_all_traj_sin = np.sin(phi9_all_traj)\n",
    "phi9_all_traj_cos = np.cos(phi9_all_traj)\n",
    "\n",
    "phi10_all_traj_sin = np.sin(phi10_all_traj)\n",
    "phi10_all_traj_cos = np.cos(phi10_all_traj)\n"
   ]
  },
  {
   "cell_type": "code",
   "execution_count": 8,
   "id": "4a9636ff",
   "metadata": {},
   "outputs": [],
   "source": [
    "tica1_CR_Phi2_sin = np.corrcoef(tica1_all_traj,phi2_all_traj_sin)\n",
    "tica1_CR_Phi3_sin = np.corrcoef(tica1_all_traj,phi3_all_traj_sin)\n",
    "tica1_CR_Phi4_sin = np.corrcoef(tica1_all_traj,phi4_all_traj_sin)\n",
    "tica1_CR_Phi5_sin = np.corrcoef(tica1_all_traj,phi5_all_traj_sin)\n",
    "tica1_CR_Phi6_sin = np.corrcoef(tica1_all_traj,phi6_all_traj_sin)\n",
    "tica1_CR_Phi7_sin = np.corrcoef(tica1_all_traj,phi7_all_traj_sin)\n",
    "tica1_CR_Phi8_sin = np.corrcoef(tica1_all_traj,phi8_all_traj_sin)\n",
    "tica1_CR_Phi9_sin = np.corrcoef(tica1_all_traj,phi9_all_traj_sin)\n",
    "tica1_CR_Phi10_sin = np.corrcoef(tica1_all_traj,phi10_all_traj_sin)"
   ]
  },
  {
   "cell_type": "code",
   "execution_count": 9,
   "id": "c1b99843",
   "metadata": {},
   "outputs": [
    {
     "data": {
      "text/plain": [
       "(937500,)"
      ]
     },
     "execution_count": 9,
     "metadata": {},
     "output_type": "execute_result"
    }
   ],
   "source": [
    "np.shape(tica1_all_traj)"
   ]
  },
  {
   "cell_type": "code",
   "execution_count": 10,
   "id": "a0e75b32",
   "metadata": {},
   "outputs": [
    {
     "data": {
      "text/plain": [
       "(937500,)"
      ]
     },
     "execution_count": 10,
     "metadata": {},
     "output_type": "execute_result"
    }
   ],
   "source": [
    "np.shape(phi2_all_traj_sin)"
   ]
  },
  {
   "cell_type": "code",
   "execution_count": 11,
   "id": "6ead090a",
   "metadata": {},
   "outputs": [],
   "source": [
    "tica1_CR_Phi2_cos = np.corrcoef(tica1_all_traj,phi2_all_traj_cos)\n",
    "tica1_CR_Phi3_cos = np.corrcoef(tica1_all_traj,phi3_all_traj_cos)\n",
    "tica1_CR_Phi4_cos = np.corrcoef(tica1_all_traj,phi4_all_traj_cos)\n",
    "tica1_CR_Phi5_cos = np.corrcoef(tica1_all_traj,phi5_all_traj_cos)\n",
    "tica1_CR_Phi6_cos = np.corrcoef(tica1_all_traj,phi6_all_traj_cos)\n",
    "tica1_CR_Phi7_cos = np.corrcoef(tica1_all_traj,phi7_all_traj_cos)\n",
    "tica1_CR_Phi8_cos = np.corrcoef(tica1_all_traj,phi8_all_traj_cos)\n",
    "tica1_CR_Phi9_cos = np.corrcoef(tica1_all_traj,phi9_all_traj_cos)\n",
    "tica1_CR_Phi10_cos = np.corrcoef(tica1_all_traj,phi10_all_traj_cos)"
   ]
  },
  {
   "cell_type": "code",
   "execution_count": 12,
   "id": "c5b0a0ae",
   "metadata": {},
   "outputs": [],
   "source": [
    "Correlation_Score_tica1 = np.zeros((9,1))\n",
    "Correlation_Score_tica1[0,0] = np.abs(tica1_CR_Phi2_cos[0,1]) + np.abs(tica1_CR_Phi2_sin[0,1])\n",
    "Correlation_Score_tica1[1,0] = np.abs(tica1_CR_Phi3_cos[0,1]) + np.abs(tica1_CR_Phi3_sin[0,1])\n",
    "Correlation_Score_tica1[2,0] = np.abs(tica1_CR_Phi4_cos[0,1]) + np.abs(tica1_CR_Phi4_sin[0,1])\n",
    "Correlation_Score_tica1[3,0] = np.abs(tica1_CR_Phi5_cos[0,1]) + np.abs(tica1_CR_Phi5_sin[0,1])\n",
    "Correlation_Score_tica1[4,0] = np.abs(tica1_CR_Phi6_cos[0,1]) + np.abs(tica1_CR_Phi6_sin[0,1])\n",
    "Correlation_Score_tica1[5,0] = np.abs(tica1_CR_Phi7_cos[0,1]) + np.abs(tica1_CR_Phi7_sin[0,1])\n",
    "Correlation_Score_tica1[6,0] = np.abs(tica1_CR_Phi8_cos[0,1]) + np.abs(tica1_CR_Phi8_sin[0,1])\n",
    "Correlation_Score_tica1[7,0] = np.abs(tica1_CR_Phi9_cos[0,1]) + np.abs(tica1_CR_Phi9_sin[0,1])\n",
    "Correlation_Score_tica1[8,0] = np.abs(tica1_CR_Phi10_cos[0,1]) + np.abs(tica1_CR_Phi10_sin[0,1])"
   ]
  },
  {
   "cell_type": "code",
   "execution_count": 13,
   "id": "39a35669",
   "metadata": {},
   "outputs": [],
   "source": [
    "tica2_CR_Phi2_sin = np.corrcoef(tica2_all_traj,phi2_all_traj_sin)\n",
    "tica2_CR_Phi3_sin = np.corrcoef(tica2_all_traj,phi3_all_traj_sin)\n",
    "tica2_CR_Phi4_sin = np.corrcoef(tica2_all_traj,phi4_all_traj_sin)\n",
    "tica2_CR_Phi5_sin = np.corrcoef(tica2_all_traj,phi5_all_traj_sin)\n",
    "tica2_CR_Phi6_sin = np.corrcoef(tica2_all_traj,phi6_all_traj_sin)\n",
    "tica2_CR_Phi7_sin = np.corrcoef(tica2_all_traj,phi7_all_traj_sin)\n",
    "tica2_CR_Phi8_sin = np.corrcoef(tica2_all_traj,phi8_all_traj_sin)\n",
    "tica2_CR_Phi9_sin = np.corrcoef(tica2_all_traj,phi9_all_traj_sin)\n",
    "tica2_CR_Phi10_sin = np.corrcoef(tica2_all_traj,phi10_all_traj_sin)"
   ]
  },
  {
   "cell_type": "code",
   "execution_count": 14,
   "id": "4098dac2",
   "metadata": {},
   "outputs": [],
   "source": [
    "tica2_CR_Phi2_cos = np.corrcoef(tica2_all_traj,phi2_all_traj_cos)\n",
    "tica2_CR_Phi3_cos = np.corrcoef(tica2_all_traj,phi3_all_traj_cos)\n",
    "tica2_CR_Phi4_cos = np.corrcoef(tica2_all_traj,phi4_all_traj_cos)\n",
    "tica2_CR_Phi5_cos = np.corrcoef(tica2_all_traj,phi5_all_traj_cos)\n",
    "tica2_CR_Phi6_cos = np.corrcoef(tica2_all_traj,phi6_all_traj_cos)\n",
    "tica2_CR_Phi7_cos = np.corrcoef(tica2_all_traj,phi7_all_traj_cos)\n",
    "tica2_CR_Phi8_cos = np.corrcoef(tica2_all_traj,phi8_all_traj_cos)\n",
    "tica2_CR_Phi9_cos = np.corrcoef(tica2_all_traj,phi9_all_traj_cos)\n",
    "tica2_CR_Phi10_cos = np.corrcoef(tica2_all_traj,phi10_all_traj_cos)"
   ]
  },
  {
   "cell_type": "code",
   "execution_count": 15,
   "id": "52986098",
   "metadata": {},
   "outputs": [],
   "source": [
    "Correlation_Score_tica2 = np.zeros((9,1))\n",
    "Correlation_Score_tica2[0,0] = np.abs(tica2_CR_Phi2_cos[0,1]) + np.abs(tica2_CR_Phi2_sin[0,1])\n",
    "Correlation_Score_tica2[1,0] = np.abs(tica2_CR_Phi3_cos[0,1]) + np.abs(tica2_CR_Phi3_sin[0,1])\n",
    "Correlation_Score_tica2[2,0] = np.abs(tica2_CR_Phi4_cos[0,1]) + np.abs(tica2_CR_Phi4_sin[0,1])\n",
    "Correlation_Score_tica2[3,0] = np.abs(tica2_CR_Phi5_cos[0,1]) + np.abs(tica2_CR_Phi5_sin[0,1])\n",
    "Correlation_Score_tica2[4,0] = np.abs(tica2_CR_Phi6_cos[0,1]) + np.abs(tica2_CR_Phi6_sin[0,1])\n",
    "Correlation_Score_tica2[5,0] = np.abs(tica2_CR_Phi7_cos[0,1]) + np.abs(tica2_CR_Phi7_sin[0,1])\n",
    "Correlation_Score_tica2[6,0] = np.abs(tica2_CR_Phi8_cos[0,1]) + np.abs(tica2_CR_Phi8_sin[0,1])\n",
    "Correlation_Score_tica2[7,0] = np.abs(tica2_CR_Phi9_cos[0,1]) + np.abs(tica2_CR_Phi9_sin[0,1])\n",
    "Correlation_Score_tica2[8,0] = np.abs(tica2_CR_Phi10_cos[0,1]) + np.abs(tica2_CR_Phi10_sin[0,1])"
   ]
  },
  {
   "cell_type": "code",
   "execution_count": 16,
   "id": "efd24f59",
   "metadata": {},
   "outputs": [],
   "source": [
    "tica3_CR_Phi2_sin = np.corrcoef(tica3_all_traj,phi2_all_traj_sin)\n",
    "tica3_CR_Phi3_sin = np.corrcoef(tica3_all_traj,phi3_all_traj_sin)\n",
    "tica3_CR_Phi4_sin = np.corrcoef(tica3_all_traj,phi4_all_traj_sin)\n",
    "tica3_CR_Phi5_sin = np.corrcoef(tica3_all_traj,phi5_all_traj_sin)\n",
    "tica3_CR_Phi6_sin = np.corrcoef(tica3_all_traj,phi6_all_traj_sin)\n",
    "tica3_CR_Phi7_sin = np.corrcoef(tica3_all_traj,phi7_all_traj_sin)\n",
    "tica3_CR_Phi8_sin = np.corrcoef(tica3_all_traj,phi8_all_traj_sin)\n",
    "tica3_CR_Phi9_sin = np.corrcoef(tica3_all_traj,phi9_all_traj_sin)\n",
    "tica3_CR_Phi10_sin = np.corrcoef(tica3_all_traj,phi10_all_traj_sin)"
   ]
  },
  {
   "cell_type": "code",
   "execution_count": 17,
   "id": "9aa64d04",
   "metadata": {},
   "outputs": [],
   "source": [
    "tica3_CR_Phi2_cos = np.corrcoef(tica3_all_traj,phi2_all_traj_cos)\n",
    "tica3_CR_Phi3_cos = np.corrcoef(tica3_all_traj,phi3_all_traj_cos)\n",
    "tica3_CR_Phi4_cos = np.corrcoef(tica3_all_traj,phi4_all_traj_cos)\n",
    "tica3_CR_Phi5_cos = np.corrcoef(tica3_all_traj,phi5_all_traj_cos)\n",
    "tica3_CR_Phi6_cos = np.corrcoef(tica3_all_traj,phi6_all_traj_cos)\n",
    "tica3_CR_Phi7_cos = np.corrcoef(tica3_all_traj,phi7_all_traj_cos)\n",
    "tica3_CR_Phi8_cos = np.corrcoef(tica3_all_traj,phi8_all_traj_cos)\n",
    "tica3_CR_Phi9_cos = np.corrcoef(tica3_all_traj,phi9_all_traj_cos)\n",
    "tica3_CR_Phi10_cos = np.corrcoef(tica3_all_traj,phi10_all_traj_cos)"
   ]
  },
  {
   "cell_type": "code",
   "execution_count": 18,
   "id": "985ce2c2",
   "metadata": {},
   "outputs": [],
   "source": [
    "Correlation_Score_tica3 = np.zeros((9,1))\n",
    "Correlation_Score_tica3[0,0] = np.abs(tica3_CR_Phi2_cos[0,1]) + np.abs(tica3_CR_Phi2_sin[0,1])\n",
    "Correlation_Score_tica3[1,0] = np.abs(tica3_CR_Phi3_cos[0,1]) + np.abs(tica3_CR_Phi3_sin[0,1])\n",
    "Correlation_Score_tica3[2,0] = np.abs(tica3_CR_Phi4_cos[0,1]) + np.abs(tica3_CR_Phi4_sin[0,1])\n",
    "Correlation_Score_tica3[3,0] = np.abs(tica3_CR_Phi5_cos[0,1]) + np.abs(tica3_CR_Phi5_sin[0,1])\n",
    "Correlation_Score_tica3[4,0] = np.abs(tica3_CR_Phi6_cos[0,1]) + np.abs(tica3_CR_Phi6_sin[0,1])\n",
    "Correlation_Score_tica3[5,0] = np.abs(tica3_CR_Phi7_cos[0,1]) + np.abs(tica3_CR_Phi7_sin[0,1])\n",
    "Correlation_Score_tica3[6,0] = np.abs(tica3_CR_Phi8_cos[0,1]) + np.abs(tica3_CR_Phi8_sin[0,1])\n",
    "Correlation_Score_tica3[7,0] = np.abs(tica3_CR_Phi9_cos[0,1]) + np.abs(tica3_CR_Phi9_sin[0,1])\n",
    "Correlation_Score_tica3[8,0] = np.abs(tica3_CR_Phi10_cos[0,1]) + np.abs(tica3_CR_Phi10_sin[0,1])"
   ]
  },
  {
   "cell_type": "code",
   "execution_count": 19,
   "id": "ed1b2925",
   "metadata": {},
   "outputs": [],
   "source": [
    "tica4_CR_Phi2_sin = np.corrcoef(tica4_all_traj,phi2_all_traj_sin)\n",
    "tica4_CR_Phi3_sin = np.corrcoef(tica4_all_traj,phi3_all_traj_sin)\n",
    "tica4_CR_Phi4_sin = np.corrcoef(tica4_all_traj,phi4_all_traj_sin)\n",
    "tica4_CR_Phi5_sin = np.corrcoef(tica4_all_traj,phi5_all_traj_sin)\n",
    "tica4_CR_Phi6_sin = np.corrcoef(tica4_all_traj,phi6_all_traj_sin)\n",
    "tica4_CR_Phi7_sin = np.corrcoef(tica4_all_traj,phi7_all_traj_sin)\n",
    "tica4_CR_Phi8_sin = np.corrcoef(tica4_all_traj,phi8_all_traj_sin)\n",
    "tica4_CR_Phi9_sin = np.corrcoef(tica4_all_traj,phi9_all_traj_sin)\n",
    "tica4_CR_Phi10_sin = np.corrcoef(tica4_all_traj,phi10_all_traj_sin)"
   ]
  },
  {
   "cell_type": "code",
   "execution_count": 20,
   "id": "02f917ca",
   "metadata": {},
   "outputs": [],
   "source": [
    "tica4_CR_Phi2_cos = np.corrcoef(tica4_all_traj,phi2_all_traj_cos)\n",
    "tica4_CR_Phi3_cos = np.corrcoef(tica4_all_traj,phi3_all_traj_cos)\n",
    "tica4_CR_Phi4_cos = np.corrcoef(tica4_all_traj,phi4_all_traj_cos)\n",
    "tica4_CR_Phi5_cos = np.corrcoef(tica4_all_traj,phi5_all_traj_cos)\n",
    "tica4_CR_Phi6_cos = np.corrcoef(tica4_all_traj,phi6_all_traj_cos)\n",
    "tica4_CR_Phi7_cos = np.corrcoef(tica4_all_traj,phi7_all_traj_cos)\n",
    "tica4_CR_Phi8_cos = np.corrcoef(tica4_all_traj,phi8_all_traj_cos)\n",
    "tica4_CR_Phi9_cos = np.corrcoef(tica4_all_traj,phi9_all_traj_cos)\n",
    "tica4_CR_Phi10_cos = np.corrcoef(tica4_all_traj,phi10_all_traj_cos)"
   ]
  },
  {
   "cell_type": "code",
   "execution_count": 21,
   "id": "2219fc4c",
   "metadata": {},
   "outputs": [],
   "source": [
    "Correlation_Score_tica4 = np.zeros((9,1))\n",
    "Correlation_Score_tica4[0,0] = np.abs(tica4_CR_Phi2_cos[0,1]) + np.abs(tica4_CR_Phi2_sin[0,1])\n",
    "Correlation_Score_tica4[1,0] = np.abs(tica4_CR_Phi3_cos[0,1]) + np.abs(tica4_CR_Phi3_sin[0,1])\n",
    "Correlation_Score_tica4[2,0] = np.abs(tica4_CR_Phi4_cos[0,1]) + np.abs(tica4_CR_Phi4_sin[0,1])\n",
    "Correlation_Score_tica4[3,0] = np.abs(tica4_CR_Phi5_cos[0,1]) + np.abs(tica4_CR_Phi5_sin[0,1])\n",
    "Correlation_Score_tica4[4,0] = np.abs(tica4_CR_Phi6_cos[0,1]) + np.abs(tica4_CR_Phi6_sin[0,1])\n",
    "Correlation_Score_tica4[5,0] = np.abs(tica4_CR_Phi7_cos[0,1]) + np.abs(tica4_CR_Phi7_sin[0,1])\n",
    "Correlation_Score_tica4[6,0] = np.abs(tica4_CR_Phi8_cos[0,1]) + np.abs(tica4_CR_Phi8_sin[0,1])\n",
    "Correlation_Score_tica4[7,0] = np.abs(tica4_CR_Phi9_cos[0,1]) + np.abs(tica4_CR_Phi9_sin[0,1])\n",
    "Correlation_Score_tica4[8,0] = np.abs(tica4_CR_Phi10_cos[0,1]) + np.abs(tica4_CR_Phi10_sin[0,1])"
   ]
  },
  {
   "cell_type": "code",
   "execution_count": 22,
   "id": "00bd73a6",
   "metadata": {},
   "outputs": [
    {
     "name": "stdout",
     "output_type": "stream",
     "text": [
      "[[0.07957825]\n",
      " [0.27762882]\n",
      " [0.54981   ]\n",
      " [0.27285276]\n",
      " [0.09085925]\n",
      " [0.14262957]\n",
      " [0.09161211]\n",
      " [0.03654911]\n",
      " [0.06742381]]\n"
     ]
    }
   ],
   "source": [
    "print(Correlation_Score_tica1)"
   ]
  },
  {
   "cell_type": "code",
   "execution_count": 23,
   "id": "d00cb1a3",
   "metadata": {},
   "outputs": [
    {
     "name": "stdout",
     "output_type": "stream",
     "text": [
      "[[0.13263962]\n",
      " [0.14412192]\n",
      " [0.02797656]\n",
      " [0.46871743]\n",
      " [0.03028227]\n",
      " [0.15939843]\n",
      " [0.17843882]\n",
      " [0.07108712]\n",
      " [0.05700685]]\n"
     ]
    }
   ],
   "source": [
    "print(Correlation_Score_tica2)"
   ]
  },
  {
   "cell_type": "code",
   "execution_count": 23,
   "id": "91a9d951",
   "metadata": {},
   "outputs": [],
   "source": [
    "delta_delta_F = [ 1.4318905 , -9.05675749, -2.76302572, -3.60076012, -0.03739514,\n",
    "        2.00005859, -1.18727246, -6.79608942, -5.44399137, -1.3625668 ,\n",
    "        0.8025274 ]\n",
    "CS_phi = [ 0.06437967, 0.24489582, 0.5014504,  0.27972149, 0.02369518, 0.1708882, 0.1708882,\n",
    "        0.07400696, 0.02587254, 0.06086136]\n",
    "CS_psi = [0.26977169, 0.26953212, 0.0897338,  1.07754125, 0.87940289, 0.58528877,\n",
    " 0.27776795, 0.27776795, 0.02737757, 0.06349432]\n",
    "\n"
   ]
  },
  {
   "cell_type": "code",
   "execution_count": 27,
   "id": "f551138b",
   "metadata": {},
   "outputs": [
    {
     "name": "stdout",
     "output_type": "stream",
     "text": [
      "[[0.15232324]\n",
      " [0.11675481]\n",
      " [0.08069406]\n",
      " [0.36525409]\n",
      " [0.14311466]\n",
      " [0.22015174]\n",
      " [0.08083921]\n",
      " [0.03702179]\n",
      " [0.01684373]]\n"
     ]
    }
   ],
   "source": [
    "print(Correlation_Score_tica2)"
   ]
  },
  {
   "cell_type": "code",
   "execution_count": 28,
   "id": "5a437667",
   "metadata": {},
   "outputs": [
    {
     "name": "stdout",
     "output_type": "stream",
     "text": [
      "[[0.22538355]\n",
      " [0.18896156]\n",
      " [0.15117724]\n",
      " [0.06926   ]\n",
      " [0.13627033]\n",
      " [0.08553722]\n",
      " [0.01884736]\n",
      " [0.04349681]\n",
      " [0.01192223]]\n"
     ]
    }
   ],
   "source": [
    "print(Correlation_Score_tica3)"
   ]
  },
  {
   "cell_type": "code",
   "execution_count": 29,
   "id": "3490f187",
   "metadata": {},
   "outputs": [
    {
     "name": "stdout",
     "output_type": "stream",
     "text": [
      "[[0.08902001]\n",
      " [0.05760653]\n",
      " [0.14779002]\n",
      " [0.10024028]\n",
      " [0.06456111]\n",
      " [0.19266405]\n",
      " [0.29103117]\n",
      " [0.23357321]\n",
      " [0.14068451]]\n"
     ]
    }
   ],
   "source": [
    "print(Correlation_Score_tica4)"
   ]
  },
  {
   "cell_type": "code",
   "execution_count": 30,
   "id": "03e21153",
   "metadata": {},
   "outputs": [],
   "source": [
    "#Si\n",
    "r1 = np.loadtxt(\"Dihedral/psi_1_Fr1\")\n",
    "r2 = np.loadtxt(\"Dihedral/psi_2_Fr1\")\n",
    "r3 = np.loadtxt(\"Dihedral/psi_3_Fr1\")\n",
    "r4 = np.loadtxt(\"Dihedral/psi_4_Fr1\")\n",
    "r5 = np.loadtxt(\"Dihedral/psi_5_Fr1\")\n",
    "r6 = np.loadtxt(\"Dihedral/psi_6_Fr1\")\n",
    "r7 = np.loadtxt(\"Dihedral/psi_7_Fr1\")\n",
    "r8 = np.loadtxt(\"Dihedral/psi_8_Fr1\")\n",
    "r9 = np.loadtxt(\"Dihedral/psi_9_Fr1\")\n",
    "si1_all_traj = r1[:,1].T \n",
    "si2_all_traj = r2[:,1].T\n",
    "si3_all_traj = r3[:,1].T\n",
    "si4_all_traj = r4[:,1].T\n",
    "si5_all_traj = r5[:,1].T\n",
    "si6_all_traj = r6[:,1].T\n",
    "si7_all_traj = r7[:,1].T\n",
    "si8_all_traj = r8[:,1].T\n",
    "si9_all_traj = r9[:,1].T\n",
    "k1 = 2\n",
    "while(k1<=6):\n",
    "    tmp1 = np.loadtxt(\"Dihedral/psi_1_Fr%d\"%k1)\n",
    "    tmp2 = np.loadtxt(\"Dihedral/psi_2_Fr%d\"%k1)\n",
    "    tmp3 = np.loadtxt(\"Dihedral/psi_3_Fr%d\"%k1)\n",
    "    tmp4 = np.loadtxt(\"Dihedral/psi_4_Fr%d\"%k1)\n",
    "    tmp5 = np.loadtxt(\"Dihedral/psi_5_Fr%d\"%k1)\n",
    "    tmp6 = np.loadtxt(\"Dihedral/psi_6_Fr%d\"%k1)\n",
    "    tmp7 = np.loadtxt(\"Dihedral/psi_7_Fr%d\"%k1)\n",
    "    tmp8 = np.loadtxt(\"Dihedral/psi_8_Fr%d\"%k1)\n",
    "    tmp9 = np.loadtxt(\"Dihedral/psi_9_Fr%d\"%k1)\n",
    "    tmp1 = tmp1[:,1].T\n",
    "    tmp2 = tmp2[:,1].T\n",
    "    tmp3 = tmp3[:,1].T\n",
    "    tmp4 = tmp4[:,1].T\n",
    "    tmp5 = tmp5[:,1].T\n",
    "    tmp6 = tmp6[:,1].T\n",
    "    tmp7 = tmp7[:,1].T\n",
    "    tmp8 = tmp8[:,1].T\n",
    "    tmp9 = tmp9[:,1].T\n",
    "    si1_all_traj = np.concatenate((si1_all_traj,tmp1))\n",
    "    si2_all_traj = np.concatenate((si2_all_traj,tmp2))\n",
    "    si3_all_traj = np.concatenate((si3_all_traj,tmp3))\n",
    "    si4_all_traj = np.concatenate((si4_all_traj,tmp4))\n",
    "    si5_all_traj = np.concatenate((si5_all_traj,tmp5))\n",
    "    si6_all_traj = np.concatenate((si6_all_traj,tmp6))\n",
    "    si7_all_traj = np.concatenate((si7_all_traj,tmp7))\n",
    "    si8_all_traj = np.concatenate((si8_all_traj,tmp8))\n",
    "    si9_all_traj = np.concatenate((si9_all_traj,tmp9))\n",
    "    k1 = k1 +1\n",
    "k2 = 8\n",
    "while(k2<=25):\n",
    "    g1 = np.loadtxt(\"Dihedral/psi_1_Fr%d\"%k2)\n",
    "    g2 = np.loadtxt(\"Dihedral/psi_2_Fr%d\"%k2)\n",
    "    g3 = np.loadtxt(\"Dihedral/psi_3_Fr%d\"%k2)\n",
    "    g4 = np.loadtxt(\"Dihedral/psi_4_Fr%d\"%k2)\n",
    "    g5 = np.loadtxt(\"Dihedral/psi_5_Fr%d\"%k2)\n",
    "    g6 = np.loadtxt(\"Dihedral/psi_6_Fr%d\"%k2)\n",
    "    g7 = np.loadtxt(\"Dihedral/psi_7_Fr%d\"%k2)\n",
    "    g8 = np.loadtxt(\"Dihedral/psi_8_Fr%d\"%k2)\n",
    "    g9 = np.loadtxt(\"Dihedral/psi_9_Fr%d\"%k2)\n",
    "    g1 = g2[:,1].T\n",
    "    g2 = g2[:,1].T\n",
    "    g3 = g3[:,1].T\n",
    "    g4 = g4[:,1].T\n",
    "    g5 = g5[:,1].T\n",
    "    g6 = g6[:,1].T\n",
    "    g7 = g7[:,1].T\n",
    "    g8 = g8[:,1].T\n",
    "    g9 = g9[:,1].T\n",
    "    si1_all_traj = np.concatenate((si1_all_traj,g1))\n",
    "    si2_all_traj = np.concatenate((si2_all_traj,g2))\n",
    "    si3_all_traj = np.concatenate((si3_all_traj,g3))\n",
    "    si4_all_traj = np.concatenate((si4_all_traj,g4))\n",
    "    si5_all_traj = np.concatenate((si5_all_traj,g5))\n",
    "    si6_all_traj = np.concatenate((si6_all_traj,g6))\n",
    "    si7_all_traj = np.concatenate((si7_all_traj,g7))\n",
    "    si8_all_traj = np.concatenate((si8_all_traj,g8))\n",
    "    si9_all_traj = np.concatenate((si9_all_traj,g9)) \n",
    "    k2 = k2 +1\n",
    "last1 = np.loadtxt(\"Dihedral/psi_1_Fr27\")    \n",
    "last2 = np.loadtxt(\"Dihedral/psi_2_Fr27\")\n",
    "last3 = np.loadtxt(\"Dihedral/psi_3_Fr27\")\n",
    "last4 = np.loadtxt(\"Dihedral/psi_4_Fr27\")\n",
    "last5 = np.loadtxt(\"Dihedral/psi_5_Fr27\")\n",
    "last6 = np.loadtxt(\"Dihedral/psi_6_Fr27\")\n",
    "last7 = np.loadtxt(\"Dihedral/psi_7_Fr27\")\n",
    "last8 = np.loadtxt(\"Dihedral/psi_8_Fr27\")\n",
    "last9 = np.loadtxt(\"Dihedral/psi_9_Fr27\")\n",
    "\n",
    "last1 = last1[:,1].T\n",
    "last2 = last2[:,1].T\n",
    "last3 = last3[:,1].T\n",
    "last4 = last4[:,1].T\n",
    "last5 = last5[:,1].T\n",
    "last6 = last6[:,1].T\n",
    "last7 = last7[:,1].T\n",
    "last8 = last8[:,1].T\n",
    "last9 = last9[:,1].T\n",
    "\n",
    "si1_all_traj = np.concatenate((si1_all_traj,last1))\n",
    "si2_all_traj = np.concatenate((si2_all_traj,last2))   \n",
    "si3_all_traj = np.concatenate((si3_all_traj,last3))   \n",
    "si4_all_traj = np.concatenate((si4_all_traj,last4))   \n",
    "si5_all_traj = np.concatenate((si5_all_traj,last5))   \n",
    "si6_all_traj = np.concatenate((si6_all_traj,last6))   \n",
    "si7_all_traj = np.concatenate((si7_all_traj,last7))   \n",
    "si8_all_traj = np.concatenate((si8_all_traj,last8))   \n",
    "si9_all_traj = np.concatenate((si9_all_traj,last9))   \n",
    " \n",
    "\n",
    "\n",
    "        \n",
    "    "
   ]
  },
  {
   "cell_type": "code",
   "execution_count": 31,
   "id": "3ebff8d7",
   "metadata": {},
   "outputs": [],
   "source": [
    "si1_all_traj_sin = np.sin(si1_all_traj)\n",
    "si1_all_traj_cos = np.cos(si1_all_traj)\n",
    "\n",
    "si2_all_traj_sin = np.sin(si2_all_traj)\n",
    "si2_all_traj_cos = np.cos(si2_all_traj)\n",
    "\n",
    "si3_all_traj_sin = np.sin(si3_all_traj)\n",
    "si3_all_traj_cos = np.cos(si3_all_traj)\n",
    "\n",
    "si4_all_traj_sin = np.sin(si4_all_traj)\n",
    "si4_all_traj_cos = np.cos(si4_all_traj)\n",
    "\n",
    "si5_all_traj_sin = np.sin(si5_all_traj)\n",
    "si5_all_traj_cos = np.cos(si5_all_traj)\n",
    "\n",
    "si6_all_traj_sin = np.sin(si6_all_traj)\n",
    "si6_all_traj_cos = np.cos(si6_all_traj)\n",
    "\n",
    "si7_all_traj_sin = np.sin(si7_all_traj)\n",
    "si7_all_traj_cos = np.cos(si7_all_traj)\n",
    "\n",
    "si8_all_traj_sin = np.sin(si8_all_traj)\n",
    "si8_all_traj_cos = np.cos(si8_all_traj)\n",
    "\n",
    "si9_all_traj_sin = np.sin(si9_all_traj)\n",
    "si9_all_traj_cos = np.cos(si9_all_traj)\n",
    "\n",
    "\n"
   ]
  },
  {
   "cell_type": "code",
   "execution_count": 32,
   "id": "74a7d668",
   "metadata": {},
   "outputs": [],
   "source": [
    "tica1_CR_si1_sin = np.corrcoef(tica1_all_traj,si1_all_traj_sin)\n",
    "tica1_CR_si2_sin = np.corrcoef(tica1_all_traj,si2_all_traj_sin)\n",
    "tica1_CR_si3_sin = np.corrcoef(tica1_all_traj,si3_all_traj_sin)\n",
    "tica1_CR_si4_sin = np.corrcoef(tica1_all_traj,si4_all_traj_sin)\n",
    "tica1_CR_si5_sin = np.corrcoef(tica1_all_traj,si5_all_traj_sin)\n",
    "tica1_CR_si6_sin = np.corrcoef(tica1_all_traj,si6_all_traj_sin)\n",
    "tica1_CR_si7_sin = np.corrcoef(tica1_all_traj,si7_all_traj_sin)\n",
    "tica1_CR_si8_sin = np.corrcoef(tica1_all_traj,si8_all_traj_sin)\n",
    "tica1_CR_si9_sin = np.corrcoef(tica1_all_traj,si9_all_traj_sin)\n",
    "\n",
    "tica1_CR_si1_cos = np.corrcoef(tica1_all_traj,si1_all_traj_cos)\n",
    "tica1_CR_si2_cos = np.corrcoef(tica1_all_traj,si2_all_traj_cos)\n",
    "tica1_CR_si3_cos = np.corrcoef(tica1_all_traj,si3_all_traj_cos)\n",
    "tica1_CR_si4_cos = np.corrcoef(tica1_all_traj,si4_all_traj_cos)\n",
    "tica1_CR_si5_cos = np.corrcoef(tica1_all_traj,si5_all_traj_cos)\n",
    "tica1_CR_si6_cos = np.corrcoef(tica1_all_traj,si6_all_traj_cos)\n",
    "tica1_CR_si7_cos = np.corrcoef(tica1_all_traj,si7_all_traj_cos)\n",
    "tica1_CR_si8_cos = np.corrcoef(tica1_all_traj,si8_all_traj_cos)\n",
    "tica1_CR_si9_cos = np.corrcoef(tica1_all_traj,si9_all_traj_cos)\n",
    "\n",
    "\n",
    "Correlation_Score_tica1_si = np.zeros((9,1))\n",
    "Correlation_Score_tica1_si[0,0] = np.abs(tica1_CR_si1_cos[0,1]) + np.abs(tica1_CR_si1_sin[0,1])\n",
    "Correlation_Score_tica1_si[1,0] = np.abs(tica1_CR_si2_cos[0,1]) + np.abs(tica1_CR_si2_sin[0,1])\n",
    "Correlation_Score_tica1_si[2,0] = np.abs(tica1_CR_si3_cos[0,1]) + np.abs(tica1_CR_si3_sin[0,1])\n",
    "Correlation_Score_tica1_si[3,0] = np.abs(tica1_CR_si4_cos[0,1]) + np.abs(tica1_CR_si4_sin[0,1])\n",
    "Correlation_Score_tica1_si[4,0] = np.abs(tica1_CR_si5_cos[0,1]) + np.abs(tica1_CR_si5_sin[0,1])\n",
    "Correlation_Score_tica1_si[5,0] = np.abs(tica1_CR_si6_cos[0,1]) + np.abs(tica1_CR_si6_sin[0,1])\n",
    "Correlation_Score_tica1_si[6,0] = np.abs(tica1_CR_si7_cos[0,1]) + np.abs(tica1_CR_si7_sin[0,1])\n",
    "Correlation_Score_tica1_si[7,0] = np.abs(tica1_CR_si8_cos[0,1]) + np.abs(tica1_CR_si8_sin[0,1])\n",
    "Correlation_Score_tica1_si[8,0] = np.abs(tica1_CR_si9_cos[0,1]) + np.abs(tica1_CR_si9_sin[0,1])"
   ]
  },
  {
   "cell_type": "code",
   "execution_count": 33,
   "id": "6a56e904",
   "metadata": {},
   "outputs": [],
   "source": [
    "tica2_CR_si1_sin = np.corrcoef(tica2_all_traj,si1_all_traj_sin)\n",
    "tica2_CR_si2_sin = np.corrcoef(tica2_all_traj,si2_all_traj_sin)\n",
    "tica2_CR_si3_sin = np.corrcoef(tica2_all_traj,si3_all_traj_sin)\n",
    "tica2_CR_si4_sin = np.corrcoef(tica2_all_traj,si4_all_traj_sin)\n",
    "tica2_CR_si5_sin = np.corrcoef(tica2_all_traj,si5_all_traj_sin)\n",
    "tica2_CR_si6_sin = np.corrcoef(tica2_all_traj,si6_all_traj_sin)\n",
    "tica2_CR_si7_sin = np.corrcoef(tica2_all_traj,si7_all_traj_sin)\n",
    "tica2_CR_si8_sin = np.corrcoef(tica2_all_traj,si8_all_traj_sin)\n",
    "tica2_CR_si9_sin = np.corrcoef(tica2_all_traj,si9_all_traj_sin)\n",
    "\n",
    "tica2_CR_si1_cos = np.corrcoef(tica2_all_traj,si1_all_traj_cos)\n",
    "tica2_CR_si2_cos = np.corrcoef(tica2_all_traj,si2_all_traj_cos)\n",
    "tica2_CR_si3_cos = np.corrcoef(tica2_all_traj,si3_all_traj_cos)\n",
    "tica2_CR_si4_cos = np.corrcoef(tica2_all_traj,si4_all_traj_cos)\n",
    "tica2_CR_si5_cos = np.corrcoef(tica2_all_traj,si5_all_traj_cos)\n",
    "tica2_CR_si6_cos = np.corrcoef(tica2_all_traj,si6_all_traj_cos)\n",
    "tica2_CR_si7_cos = np.corrcoef(tica2_all_traj,si7_all_traj_cos)\n",
    "tica2_CR_si8_cos = np.corrcoef(tica2_all_traj,si8_all_traj_cos)\n",
    "tica2_CR_si9_cos = np.corrcoef(tica2_all_traj,si9_all_traj_cos)\n",
    "\n",
    "\n",
    "Correlation_Score_tica2_si = np.zeros((9,1))\n",
    "Correlation_Score_tica2_si[0,0] = np.abs(tica2_CR_si1_cos[0,1]) + np.abs(tica2_CR_si1_sin[0,1])\n",
    "Correlation_Score_tica2_si[1,0] = np.abs(tica2_CR_si2_cos[0,1]) + np.abs(tica2_CR_si2_sin[0,1])\n",
    "Correlation_Score_tica2_si[2,0] = np.abs(tica2_CR_si3_cos[0,1]) + np.abs(tica2_CR_si3_sin[0,1])\n",
    "Correlation_Score_tica2_si[3,0] = np.abs(tica2_CR_si4_cos[0,1]) + np.abs(tica2_CR_si4_sin[0,1])\n",
    "Correlation_Score_tica2_si[4,0] = np.abs(tica2_CR_si5_cos[0,1]) + np.abs(tica2_CR_si5_sin[0,1])\n",
    "Correlation_Score_tica2_si[5,0] = np.abs(tica2_CR_si6_cos[0,1]) + np.abs(tica2_CR_si6_sin[0,1])\n",
    "Correlation_Score_tica2_si[6,0] = np.abs(tica2_CR_si7_cos[0,1]) + np.abs(tica2_CR_si7_sin[0,1])\n",
    "Correlation_Score_tica2_si[7,0] = np.abs(tica2_CR_si8_cos[0,1]) + np.abs(tica2_CR_si8_sin[0,1])\n",
    "Correlation_Score_tica2_si[8,0] = np.abs(tica2_CR_si9_cos[0,1]) + np.abs(tica2_CR_si9_sin[0,1])"
   ]
  },
  {
   "cell_type": "code",
   "execution_count": null,
   "id": "82631355",
   "metadata": {},
   "outputs": [],
   "source": [
    "tica3_CR_si1_sin = np.corrcoef(tica3_all_traj,si1_all_traj_sin)\n",
    "tica3_CR_si2_sin = np.corrcoef(tica3_all_traj,si2_all_traj_sin)\n",
    "tica3_CR_si3_sin = np.corrcoef(tica3_all_traj,si3_all_traj_sin)\n",
    "tica3_CR_si4_sin = np.corrcoef(tica3_all_traj,si4_all_traj_sin)\n",
    "tica3_CR_si5_sin = np.corrcoef(tica3_all_traj,si5_all_traj_sin)\n",
    "tica3_CR_si6_sin = np.corrcoef(tica3_all_traj,si6_all_traj_sin)\n",
    "tica3_CR_si7_sin = np.corrcoef(tica3_all_traj,si7_all_traj_sin)\n",
    "tica3_CR_si8_sin = np.corrcoef(tica3_all_traj,si8_all_traj_sin)\n",
    "tica3_CR_si9_sin = np.corrcoef(tica3_all_traj,si9_all_traj_sin)\n",
    "\n",
    "tica3_CR_si1_cos = np.corrcoef(tica3_all_traj,si1_all_traj_cos)\n",
    "tica3_CR_si2_cos = np.corrcoef(tica3_all_traj,si2_all_traj_cos)\n",
    "tica3_CR_si3_cos = np.corrcoef(tica3_all_traj,si3_all_traj_cos)\n",
    "tica3_CR_si4_cos = np.corrcoef(tica3_all_traj,si4_all_traj_cos)\n",
    "tica3_CR_si5_cos = np.corrcoef(tica3_all_traj,si5_all_traj_cos)\n",
    "tica3_CR_si6_cos = np.corrcoef(tica3_all_traj,si6_all_traj_cos)\n",
    "tica3_CR_si7_cos = np.corrcoef(tica3_all_traj,si7_all_traj_cos)\n",
    "tica3_CR_si8_cos = np.corrcoef(tica3_all_traj,si8_all_traj_cos)\n",
    "tica3_CR_si9_cos = np.corrcoef(tica3_all_traj,si9_all_traj_cos)\n",
    "\n",
    "\n",
    "Correlation_Score_tica3_si = np.zeros((9,1))\n",
    "Correlation_Score_tica3_si[0,0] = np.abs(tica3_CR_si1_cos[0,1]) + np.abs(tica3_CR_si1_sin[0,1])\n",
    "Correlation_Score_tica3_si[1,0] = np.abs(tica3_CR_si2_cos[0,1]) + np.abs(tica3_CR_si2_sin[0,1])\n",
    "Correlation_Score_tica3_si[2,0] = np.abs(tica3_CR_si3_cos[0,1]) + np.abs(tica3_CR_si3_sin[0,1])\n",
    "Correlation_Score_tica3_si[3,0] = np.abs(tica3_CR_si4_cos[0,1]) + np.abs(tica3_CR_si4_sin[0,1])\n",
    "Correlation_Score_tica3_si[4,0] = np.abs(tica3_CR_si5_cos[0,1]) + np.abs(tica3_CR_si5_sin[0,1])\n",
    "Correlation_Score_tica3_si[5,0] = np.abs(tica3_CR_si6_cos[0,1]) + np.abs(tica3_CR_si6_sin[0,1])\n",
    "Correlation_Score_tica3_si[6,0] = np.abs(tica3_CR_si7_cos[0,1]) + np.abs(tica3_CR_si7_sin[0,1])\n",
    "Correlation_Score_tica3_si[7,0] = np.abs(tica3_CR_si8_cos[0,1]) + np.abs(tica3_CR_si8_sin[0,1])\n",
    "Correlation_Score_tica3_si[8,0] = np.abs(tica3_CR_si9_cos[0,1]) + np.abs(tica3_CR_si9_sin[0,1])"
   ]
  },
  {
   "cell_type": "code",
   "execution_count": 34,
   "id": "553f5943",
   "metadata": {},
   "outputs": [],
   "source": [
    "tica4_CR_si1_sin = np.corrcoef(tica4_all_traj,si1_all_traj_sin)\n",
    "tica4_CR_si2_sin = np.corrcoef(tica4_all_traj,si2_all_traj_sin)\n",
    "tica4_CR_si3_sin = np.corrcoef(tica4_all_traj,si3_all_traj_sin)\n",
    "tica4_CR_si4_sin = np.corrcoef(tica4_all_traj,si4_all_traj_sin)\n",
    "tica4_CR_si5_sin = np.corrcoef(tica4_all_traj,si5_all_traj_sin)\n",
    "tica4_CR_si6_sin = np.corrcoef(tica4_all_traj,si6_all_traj_sin)\n",
    "tica4_CR_si7_sin = np.corrcoef(tica4_all_traj,si7_all_traj_sin)\n",
    "tica4_CR_si8_sin = np.corrcoef(tica4_all_traj,si8_all_traj_sin)\n",
    "tica4_CR_si9_sin = np.corrcoef(tica4_all_traj,si9_all_traj_sin)\n",
    "\n",
    "tica4_CR_si1_cos = np.corrcoef(tica4_all_traj,si1_all_traj_cos)\n",
    "tica4_CR_si2_cos = np.corrcoef(tica4_all_traj,si2_all_traj_cos)\n",
    "tica4_CR_si3_cos = np.corrcoef(tica4_all_traj,si3_all_traj_cos)\n",
    "tica4_CR_si4_cos = np.corrcoef(tica4_all_traj,si4_all_traj_cos)\n",
    "tica4_CR_si5_cos = np.corrcoef(tica4_all_traj,si5_all_traj_cos)\n",
    "tica4_CR_si6_cos = np.corrcoef(tica4_all_traj,si6_all_traj_cos)\n",
    "tica4_CR_si7_cos = np.corrcoef(tica4_all_traj,si7_all_traj_cos)\n",
    "tica4_CR_si8_cos = np.corrcoef(tica4_all_traj,si8_all_traj_cos)\n",
    "tica4_CR_si9_cos = np.corrcoef(tica4_all_traj,si9_all_traj_cos)\n",
    "\n",
    "\n",
    "Correlation_Score_tica4_si = np.zeros((9,1))\n",
    "Correlation_Score_tica4_si[0,0] = np.abs(tica4_CR_si1_cos[0,1]) + np.abs(tica4_CR_si1_sin[0,1])\n",
    "Correlation_Score_tica4_si[1,0] = np.abs(tica4_CR_si2_cos[0,1]) + np.abs(tica4_CR_si2_sin[0,1])\n",
    "Correlation_Score_tica4_si[2,0] = np.abs(tica4_CR_si3_cos[0,1]) + np.abs(tica4_CR_si3_sin[0,1])\n",
    "Correlation_Score_tica4_si[3,0] = np.abs(tica4_CR_si4_cos[0,1]) + np.abs(tica4_CR_si4_sin[0,1])\n",
    "Correlation_Score_tica4_si[4,0] = np.abs(tica4_CR_si5_cos[0,1]) + np.abs(tica4_CR_si5_sin[0,1])\n",
    "Correlation_Score_tica4_si[5,0] = np.abs(tica4_CR_si6_cos[0,1]) + np.abs(tica4_CR_si6_sin[0,1])\n",
    "Correlation_Score_tica4_si[6,0] = np.abs(tica4_CR_si7_cos[0,1]) + np.abs(tica4_CR_si7_sin[0,1])\n",
    "Correlation_Score_tica4_si[7,0] = np.abs(tica4_CR_si8_cos[0,1]) + np.abs(tica4_CR_si8_sin[0,1])\n",
    "Correlation_Score_tica4_si[8,0] = np.abs(tica4_CR_si9_cos[0,1]) + np.abs(tica4_CR_si9_sin[0,1])"
   ]
  },
  {
   "cell_type": "code",
   "execution_count": 35,
   "id": "fbfe8b4a",
   "metadata": {},
   "outputs": [
    {
     "name": "stdout",
     "output_type": "stream",
     "text": [
      "[0.26977169 0.26953212 0.0897338  1.07754125 0.87940289 0.58528877\n",
      " 0.27776795 0.02737757 0.06349432]\n"
     ]
    }
   ],
   "source": [
    "print(Correlation_Score_tica1_si[:,0])"
   ]
  },
  {
   "cell_type": "code",
   "execution_count": 36,
   "id": "f26019b8",
   "metadata": {},
   "outputs": [
    {
     "name": "stdout",
     "output_type": "stream",
     "text": [
      "[[0.28209284]\n",
      " [0.50264566]\n",
      " [0.02177119]\n",
      " [0.25101133]\n",
      " [0.83445682]\n",
      " [0.45260586]\n",
      " [0.0934323 ]\n",
      " [0.10320187]\n",
      " [0.14997663]]\n"
     ]
    }
   ],
   "source": [
    "print(Correlation_Score_tica2_si)"
   ]
  },
  {
   "cell_type": "code",
   "execution_count": 38,
   "id": "77486a31",
   "metadata": {},
   "outputs": [
    {
     "name": "stdout",
     "output_type": "stream",
     "text": [
      "[[0.2167029 ]\n",
      " [0.36165063]\n",
      " [0.58214446]\n",
      " [0.64497558]\n",
      " [0.16680983]\n",
      " [0.39103994]\n",
      " [0.15484616]\n",
      " [0.06289434]\n",
      " [0.07770509]]\n"
     ]
    }
   ],
   "source": [
    "print(Correlation_Score_tica2 + Correlation_Score_tica1)"
   ]
  },
  {
   "cell_type": "code",
   "execution_count": null,
   "id": "f750e21b",
   "metadata": {},
   "outputs": [],
   "source": []
  },
  {
   "cell_type": "code",
   "execution_count": null,
   "id": "f7a6f8e1",
   "metadata": {},
   "outputs": [],
   "source": [
    "print(Correlation_Score_tica3_si)"
   ]
  },
  {
   "cell_type": "code",
   "execution_count": null,
   "id": "67b2e03a",
   "metadata": {},
   "outputs": [],
   "source": [
    "print(Correlation_Score_tica4_si)"
   ]
  },
  {
   "cell_type": "code",
   "execution_count": null,
   "id": "33474b9b",
   "metadata": {},
   "outputs": [],
   "source": [
    "import numpy as np\n",
    "delta_delta_F = [ 1.4318905 , -9.05675749, -2.76302572, -3.60076012, -0.03739514,\n",
    "        2.00005859, -1.18727246, -6.79608942, -5.44399137, -1.3625668 ,\n",
    "        0.8025274 ]\n",
    "CS_phi = [ 0.06437967, 0.24489582, 0.5014504,  0.27972149, 0.02369518, 0.1708882, 0.1708882,\n",
    "        0.07400696, 0.02587254, 0.06086136]\n",
    "CS_phi_new = np.zeros(11)\n",
    "i = 0\n",
    "CS_phi_new[0] = CS_phi[0]/2\n",
    "CS_phi_new[10] = -CS_phi[9]/2\n",
    "while(i<9):\n",
    "    CS_phi_new[i+1] = (CS_phi[i+1]+CS_phi[i])/2\n",
    "    i = i +1\n",
    "CS_psi = [0.26977169, 0.26953212, 0.0897338,  1.07754125, 0.87940289, 0.58528877,\n",
    " 0.27776795, 0.27776795, 0.02737757, 0.06349432]\n"
   ]
  },
  {
   "cell_type": "code",
   "execution_count": null,
   "id": "e3469eab",
   "metadata": {},
   "outputs": [],
   "source": [
    "print(CS_phi_new)"
   ]
  },
  {
   "cell_type": "code",
   "execution_count": null,
   "id": "30a2ac0e",
   "metadata": {},
   "outputs": [],
   "source": [
    "import matplotlib.pyplot as plt\n",
    "plt.scatter(CS_phi_new,delta_delta_F)"
   ]
  },
  {
   "cell_type": "code",
   "execution_count": null,
   "id": "f510b086",
   "metadata": {},
   "outputs": [],
   "source": [
    "print(len(CS_phi))"
   ]
  },
  {
   "cell_type": "code",
   "execution_count": null,
   "id": "2e4e85e1",
   "metadata": {},
   "outputs": [],
   "source": [
    "import matplotlib.pyplot as plt\n",
    "plt.scatter(CS_phi,delta_delta_F[:-1])"
   ]
  },
  {
   "cell_type": "code",
   "execution_count": null,
   "id": "447d5a07",
   "metadata": {},
   "outputs": [],
   "source": [
    "import matplotlib.pyplot as plt\n",
    "plt.scatter(CS_psi,delta_delta_F[:-1])"
   ]
  },
  {
   "cell_type": "code",
   "execution_count": 39,
   "id": "6af0857f",
   "metadata": {},
   "outputs": [
    {
     "name": "stdout",
     "output_type": "stream",
     "text": [
      "[[0.55186452]\n",
      " [0.77217778]\n",
      " [0.11150499]\n",
      " [1.32855258]\n",
      " [1.71385972]\n",
      " [1.03789464]\n",
      " [0.37120025]\n",
      " [0.13057943]\n",
      " [0.21347095]]\n"
     ]
    }
   ],
   "source": [
    "print(Correlation_Score_tica1_si+Correlation_Score_tica2_si)"
   ]
  },
  {
   "cell_type": "code",
   "execution_count": null,
   "id": "14bd5ade",
   "metadata": {},
   "outputs": [],
   "source": []
  }
 ],
 "metadata": {
  "kernelspec": {
   "display_name": "Python 3 (ipykernel)",
   "language": "python",
   "name": "python3"
  },
  "language_info": {
   "codemirror_mode": {
    "name": "ipython",
    "version": 3
   },
   "file_extension": ".py",
   "mimetype": "text/x-python",
   "name": "python",
   "nbconvert_exporter": "python",
   "pygments_lexer": "ipython3",
   "version": "3.9.7"
  }
 },
 "nbformat": 4,
 "nbformat_minor": 5
}
